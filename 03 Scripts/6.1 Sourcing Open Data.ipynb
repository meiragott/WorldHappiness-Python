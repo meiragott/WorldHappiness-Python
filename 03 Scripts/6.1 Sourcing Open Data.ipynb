{
 "cells": [
  {
   "cell_type": "markdown",
   "id": "7b8a72f6",
   "metadata": {},
   "source": [
    "# 6.1 Sourcing Open Data"
   ]
  },
  {
   "cell_type": "markdown",
   "id": "7f96379e",
   "metadata": {},
   "source": [
    "### This script contains the following points:\n",
    "- **01. Importing Libraries & Data**\n",
    "- **02. Initial Data Exploration & Data Cleaning**\n",
    "- **03. Assigning Regions to Each Country**\n",
    "- **04. Checking for Outliers**\n",
    "- **05. Cleaned Data Profile**\n",
    "- **06. Cleaned Data Export**"
   ]
  },
  {
   "cell_type": "markdown",
   "id": "47f50b41",
   "metadata": {},
   "source": [
    "## 01. Importing Libraries & Data"
   ]
  },
  {
   "cell_type": "code",
   "execution_count": 4,
   "id": "24be9d26",
   "metadata": {},
   "outputs": [],
   "source": [
    "# Import all necessary libraries\n",
    "import pandas as pd\n",
    "import numpy as np\n",
    "import os\n",
    "import matplotlib.pyplot as plt\n",
    "import seaborn as sns\n",
    "import scipy"
   ]
  },
  {
   "cell_type": "code",
   "execution_count": 5,
   "id": "778fa3da",
   "metadata": {},
   "outputs": [],
   "source": [
    "# Turn Path into a String & Assign Python Shortcut\n",
    "path = '/Users/mgottlieb/Documents/World Happiness Analysis'"
   ]
  },
  {
   "cell_type": "code",
   "execution_count": 6,
   "id": "9d3c0737",
   "metadata": {},
   "outputs": [],
   "source": [
    "# Import the dataset for this task\n",
    "df_happiness = pd.read_excel(os.path.join(path, '02 Data', 'Original Data', 'World-Happiness-Dataset.xls'))"
   ]
  },
  {
   "cell_type": "code",
   "execution_count": 7,
   "id": "400aacfc",
   "metadata": {},
   "outputs": [
    {
     "data": {
      "text/html": [
       "<div>\n",
       "<style scoped>\n",
       "    .dataframe tbody tr th:only-of-type {\n",
       "        vertical-align: middle;\n",
       "    }\n",
       "\n",
       "    .dataframe tbody tr th {\n",
       "        vertical-align: top;\n",
       "    }\n",
       "\n",
       "    .dataframe thead th {\n",
       "        text-align: right;\n",
       "    }\n",
       "</style>\n",
       "<table border=\"1\" class=\"dataframe\">\n",
       "  <thead>\n",
       "    <tr style=\"text-align: right;\">\n",
       "      <th></th>\n",
       "      <th>Country name</th>\n",
       "      <th>year</th>\n",
       "      <th>Life Ladder</th>\n",
       "      <th>Log GDP per capita</th>\n",
       "      <th>Social support</th>\n",
       "      <th>Healthy life expectancy at birth</th>\n",
       "      <th>Freedom to make life choices</th>\n",
       "      <th>Generosity</th>\n",
       "      <th>Perceptions of corruption</th>\n",
       "      <th>Positive affect</th>\n",
       "      <th>Negative affect</th>\n",
       "    </tr>\n",
       "  </thead>\n",
       "  <tbody>\n",
       "    <tr>\n",
       "      <th>0</th>\n",
       "      <td>Afghanistan</td>\n",
       "      <td>2008</td>\n",
       "      <td>3.723590</td>\n",
       "      <td>7.350416</td>\n",
       "      <td>0.450662</td>\n",
       "      <td>50.500000</td>\n",
       "      <td>0.718114</td>\n",
       "      <td>0.164055</td>\n",
       "      <td>0.881686</td>\n",
       "      <td>0.414297</td>\n",
       "      <td>0.258195</td>\n",
       "    </tr>\n",
       "    <tr>\n",
       "      <th>1</th>\n",
       "      <td>Afghanistan</td>\n",
       "      <td>2009</td>\n",
       "      <td>4.401778</td>\n",
       "      <td>7.508646</td>\n",
       "      <td>0.552308</td>\n",
       "      <td>50.799999</td>\n",
       "      <td>0.678896</td>\n",
       "      <td>0.187297</td>\n",
       "      <td>0.850035</td>\n",
       "      <td>0.481421</td>\n",
       "      <td>0.237092</td>\n",
       "    </tr>\n",
       "    <tr>\n",
       "      <th>2</th>\n",
       "      <td>Afghanistan</td>\n",
       "      <td>2010</td>\n",
       "      <td>4.758381</td>\n",
       "      <td>7.613900</td>\n",
       "      <td>0.539075</td>\n",
       "      <td>51.099998</td>\n",
       "      <td>0.600127</td>\n",
       "      <td>0.117861</td>\n",
       "      <td>0.706766</td>\n",
       "      <td>0.516907</td>\n",
       "      <td>0.275324</td>\n",
       "    </tr>\n",
       "    <tr>\n",
       "      <th>3</th>\n",
       "      <td>Afghanistan</td>\n",
       "      <td>2011</td>\n",
       "      <td>3.831719</td>\n",
       "      <td>7.581259</td>\n",
       "      <td>0.521104</td>\n",
       "      <td>51.400002</td>\n",
       "      <td>0.495901</td>\n",
       "      <td>0.160098</td>\n",
       "      <td>0.731109</td>\n",
       "      <td>0.479835</td>\n",
       "      <td>0.267175</td>\n",
       "    </tr>\n",
       "    <tr>\n",
       "      <th>4</th>\n",
       "      <td>Afghanistan</td>\n",
       "      <td>2012</td>\n",
       "      <td>3.782938</td>\n",
       "      <td>7.660506</td>\n",
       "      <td>0.520637</td>\n",
       "      <td>51.700001</td>\n",
       "      <td>0.530935</td>\n",
       "      <td>0.234157</td>\n",
       "      <td>0.775620</td>\n",
       "      <td>0.613513</td>\n",
       "      <td>0.267919</td>\n",
       "    </tr>\n",
       "  </tbody>\n",
       "</table>\n",
       "</div>"
      ],
      "text/plain": [
       "  Country name  year  Life Ladder  Log GDP per capita  Social support  \\\n",
       "0  Afghanistan  2008     3.723590            7.350416        0.450662   \n",
       "1  Afghanistan  2009     4.401778            7.508646        0.552308   \n",
       "2  Afghanistan  2010     4.758381            7.613900        0.539075   \n",
       "3  Afghanistan  2011     3.831719            7.581259        0.521104   \n",
       "4  Afghanistan  2012     3.782938            7.660506        0.520637   \n",
       "\n",
       "   Healthy life expectancy at birth  Freedom to make life choices  Generosity  \\\n",
       "0                         50.500000                      0.718114    0.164055   \n",
       "1                         50.799999                      0.678896    0.187297   \n",
       "2                         51.099998                      0.600127    0.117861   \n",
       "3                         51.400002                      0.495901    0.160098   \n",
       "4                         51.700001                      0.530935    0.234157   \n",
       "\n",
       "   Perceptions of corruption  Positive affect  Negative affect  \n",
       "0                   0.881686         0.414297         0.258195  \n",
       "1                   0.850035         0.481421         0.237092  \n",
       "2                   0.706766         0.516907         0.275324  \n",
       "3                   0.731109         0.479835         0.267175  \n",
       "4                   0.775620         0.613513         0.267919  "
      ]
     },
     "execution_count": 7,
     "metadata": {},
     "output_type": "execute_result"
    }
   ],
   "source": [
    "# Check the import\n",
    "df_happiness.head()"
   ]
  },
  {
   "cell_type": "code",
   "execution_count": 8,
   "id": "331dd2c7",
   "metadata": {},
   "outputs": [
    {
     "data": {
      "text/plain": [
       "(2363, 11)"
      ]
     },
     "execution_count": 8,
     "metadata": {},
     "output_type": "execute_result"
    }
   ],
   "source": [
    "# Check the import\n",
    "df_happiness.shape"
   ]
  },
  {
   "cell_type": "markdown",
   "id": "6d62e37e",
   "metadata": {},
   "source": [
    "## 02. Initial Data Exploration & Data Cleaning"
   ]
  },
  {
   "cell_type": "code",
   "execution_count": 10,
   "id": "e8f846d6",
   "metadata": {
    "scrolled": true
   },
   "outputs": [
    {
     "name": "stdout",
     "output_type": "stream",
     "text": [
      "<class 'pandas.core.frame.DataFrame'>\n",
      "RangeIndex: 2363 entries, 0 to 2362\n",
      "Data columns (total 11 columns):\n",
      " #   Column                            Non-Null Count  Dtype  \n",
      "---  ------                            --------------  -----  \n",
      " 0   Country name                      2363 non-null   object \n",
      " 1   year                              2363 non-null   int64  \n",
      " 2   Life Ladder                       2363 non-null   float64\n",
      " 3   Log GDP per capita                2335 non-null   float64\n",
      " 4   Social support                    2350 non-null   float64\n",
      " 5   Healthy life expectancy at birth  2300 non-null   float64\n",
      " 6   Freedom to make life choices      2327 non-null   float64\n",
      " 7   Generosity                        2282 non-null   float64\n",
      " 8   Perceptions of corruption         2238 non-null   float64\n",
      " 9   Positive affect                   2339 non-null   float64\n",
      " 10  Negative affect                   2347 non-null   float64\n",
      "dtypes: float64(9), int64(1), object(1)\n",
      "memory usage: 203.2+ KB\n"
     ]
    }
   ],
   "source": [
    "# Display datframe info\n",
    "df_happiness.info()"
   ]
  },
  {
   "cell_type": "markdown",
   "id": "5a74c225",
   "metadata": {},
   "source": [
    "**object:** Represents textual data or mixed types, which makes sense for the name of a country. This allows for storing names and categorical text information.\\\n",
    "**int64:** Represents integer numerical data without decimal points, which also makes sense for the year. This allows for efficient storage and operations on yearly data.\\\n",
    "**float64:** Represents continuous numerical data with decimal points, this makes sense for all the other columns as they are either numerical data, like \"GDP\" and \"Healthy life expectancy at birth\" or they are from the survey which measured on a numerical scale.\\\n",
    "\\\n",
    "***I can conclude the there are no mixed data types within individual columns. The object data type for Country name is expected because it contains text data.***"
   ]
  },
  {
   "cell_type": "markdown",
   "id": "a8ebccd7",
   "metadata": {},
   "source": [
    "### Handling Missing Values\n",
    "Use fillna to fill missing values with the mean for numerical columns."
   ]
  },
  {
   "cell_type": "code",
   "execution_count": 9,
   "id": "5e5de423",
   "metadata": {},
   "outputs": [
    {
     "name": "stdout",
     "output_type": "stream",
     "text": [
      "Missing values in each column:\n",
      "Country name                          0\n",
      "year                                  0\n",
      "Life Ladder                           0\n",
      "Log GDP per capita                   28\n",
      "Social support                       13\n",
      "Healthy life expectancy at birth     63\n",
      "Freedom to make life choices         36\n",
      "Generosity                           81\n",
      "Perceptions of corruption           125\n",
      "Positive affect                      24\n",
      "Negative affect                      16\n",
      "dtype: int64\n"
     ]
    }
   ],
   "source": [
    "# Check for missing values\n",
    "missing_values = df_happiness.isnull().sum()\n",
    "\n",
    "print(\"Missing values in each column:\")\n",
    "print(missing_values)"
   ]
  },
  {
   "cell_type": "markdown",
   "id": "4d8efcbc",
   "metadata": {},
   "source": [
    "In looking at the original dataset, removing rows would significantly impact the overall dataset by reducing its size and potentially introducing bias, especially if the missing values are not randomly distributed. This could lead to a loss of valuable information and decrease the statistical power of the analysis. For example, if specific years or countries have more missing data, dropping these rows could skew the results and misrepresent trends and correlations in the data.\\\n",
    "\\\n",
    "Instead, I decided to impute the missing values using appropriate methods based on the characteristics of the data."
   ]
  },
  {
   "cell_type": "code",
   "execution_count": 11,
   "id": "a4da92f5",
   "metadata": {},
   "outputs": [],
   "source": [
    "# Impute missing values based on the analysis\n",
    "\n",
    "# Log GDP per capita: Mean imputation\n",
    "df_happiness['Log GDP per capita'].fillna(df_happiness['Log GDP per capita'].mean(), inplace=True)\n",
    "\n",
    "# Social support: Mean imputation\n",
    "df_happiness['Social support'].fillna(df_happiness['Social support'].mean(), inplace=True)\n",
    "\n",
    "# Healthy life expectancy at birth: Median imputation, potentally skewed so median is less affected by outliers\n",
    "df_happiness['Healthy life expectancy at birth'].fillna(df_happiness['Healthy life expectancy at birth'].median(), inplace=True)\n",
    "\n",
    "# Freedom to make life choices: Median imputation, could be skewed, median is less affected by outliers\n",
    "df_happiness['Freedom to make life choices'].fillna(df_happiness['Freedom to make life choices'].median(), inplace=True)\n",
    "\n",
    "# Generosity: Mode imputation, for categorical-like data this ensure the most common value is used for imputation\n",
    "df_happiness['Generosity'].fillna(df_happiness['Generosity'].mode()[0], inplace=True)\n",
    "\n",
    "# Perceptions of corruption: Mode imputation, for categorical-like data this ensure the most common value is used for imputation\n",
    "# Reason: Similar to generosity, often represents categorical-like data; mode maintains the most common perception.\n",
    "df_happiness['Perceptions of corruption'].fillna(df_happiness['Perceptions of corruption'].mode()[0], inplace=True)\n",
    "\n",
    "# Positive affect: Mean imputation\n",
    "df_happiness['Positive affect'].fillna(df_happiness['Positive affect'].mean(), inplace=True)\n",
    "\n",
    "# Negative affect: Mean imputation\n",
    "df_happiness['Negative affect'].fillna(df_happiness['Negative affect'].mean(), inplace=True)"
   ]
  },
  {
   "cell_type": "code",
   "execution_count": 14,
   "id": "c5260dcd",
   "metadata": {},
   "outputs": [
    {
     "name": "stdout",
     "output_type": "stream",
     "text": [
      "Missing values in each column:\n",
      "Country name                        0\n",
      "year                                0\n",
      "Life Ladder                         0\n",
      "Log GDP per capita                  0\n",
      "Social support                      0\n",
      "Healthy life expectancy at birth    0\n",
      "Freedom to make life choices        0\n",
      "Generosity                          0\n",
      "Perceptions of corruption           0\n",
      "Positive affect                     0\n",
      "Negative affect                     0\n",
      "dtype: int64\n"
     ]
    }
   ],
   "source": [
    "# Check for missing values to verify\n",
    "missing_values_fixed = df_happiness.isnull().sum()\n",
    "\n",
    "print(\"Missing values in each column:\")\n",
    "print(missing_values_fixed)"
   ]
  },
  {
   "cell_type": "markdown",
   "id": "dff46f8e",
   "metadata": {},
   "source": [
    "### Checking for Duplicates"
   ]
  },
  {
   "cell_type": "code",
   "execution_count": 15,
   "id": "405c05c2",
   "metadata": {},
   "outputs": [
    {
     "name": "stdout",
     "output_type": "stream",
     "text": [
      "Number of duplicate rows: 0\n"
     ]
    }
   ],
   "source": [
    "duplicates = df_happiness.duplicated()\n",
    "print(\"Number of duplicate rows:\", duplicates.sum())"
   ]
  },
  {
   "cell_type": "markdown",
   "id": "443bfee0",
   "metadata": {},
   "source": [
    "### Checking for Mixed-type Columns"
   ]
  },
  {
   "cell_type": "code",
   "execution_count": 16,
   "id": "4e34fbf2",
   "metadata": {},
   "outputs": [
    {
     "name": "stdout",
     "output_type": "stream",
     "text": [
      "Columns with mixed data types:\n"
     ]
    }
   ],
   "source": [
    "# Identify mixed-type columns\n",
    "mixed_type_columns = df_happiness.columns[df_happiness.apply(lambda col: col.apply(type).nunique() > 1)]\n",
    "\n",
    "# Print columns with mixed data types\n",
    "print(\"Columns with mixed data types:\")\n",
    "for col in mixed_type_columns:\n",
    "    print(f\"{col}: {df_happiness[col].apply(type).unique()}\")\n",
    "\n",
    "# Display the unique types in each mixed-type column\n",
    "for col in mixed_type_columns:\n",
    "    print(f\"\\nColumn '{col}' has the following unique data types:\")\n",
    "    print(df_happiness[col].apply(type).unique())"
   ]
  },
  {
   "cell_type": "markdown",
   "id": "f6d1a4c9",
   "metadata": {},
   "source": [
    "### Checking for Data Inconsistencies "
   ]
  },
  {
   "cell_type": "code",
   "execution_count": 17,
   "id": "400ece6d",
   "metadata": {
    "scrolled": true
   },
   "outputs": [
    {
     "data": {
      "text/html": [
       "<div>\n",
       "<style scoped>\n",
       "    .dataframe tbody tr th:only-of-type {\n",
       "        vertical-align: middle;\n",
       "    }\n",
       "\n",
       "    .dataframe tbody tr th {\n",
       "        vertical-align: top;\n",
       "    }\n",
       "\n",
       "    .dataframe thead th {\n",
       "        text-align: right;\n",
       "    }\n",
       "</style>\n",
       "<table border=\"1\" class=\"dataframe\">\n",
       "  <thead>\n",
       "    <tr style=\"text-align: right;\">\n",
       "      <th></th>\n",
       "      <th>year</th>\n",
       "      <th>Life Ladder</th>\n",
       "      <th>Log GDP per capita</th>\n",
       "      <th>Social support</th>\n",
       "      <th>Healthy life expectancy at birth</th>\n",
       "      <th>Freedom to make life choices</th>\n",
       "      <th>Generosity</th>\n",
       "      <th>Perceptions of corruption</th>\n",
       "      <th>Positive affect</th>\n",
       "      <th>Negative affect</th>\n",
       "    </tr>\n",
       "  </thead>\n",
       "  <tbody>\n",
       "    <tr>\n",
       "      <th>count</th>\n",
       "      <td>2363.000000</td>\n",
       "      <td>2363.000000</td>\n",
       "      <td>2363.000000</td>\n",
       "      <td>2363.000000</td>\n",
       "      <td>2363.000000</td>\n",
       "      <td>2363.000000</td>\n",
       "      <td>2363.000000</td>\n",
       "      <td>2363.000000</td>\n",
       "      <td>2363.000000</td>\n",
       "      <td>2363.000000</td>\n",
       "    </tr>\n",
       "    <tr>\n",
       "      <th>mean</th>\n",
       "      <td>2014.763860</td>\n",
       "      <td>5.483562</td>\n",
       "      <td>9.399673</td>\n",
       "      <td>0.809369</td>\n",
       "      <td>63.447103</td>\n",
       "      <td>0.750608</td>\n",
       "      <td>-0.011547</td>\n",
       "      <td>0.706467</td>\n",
       "      <td>0.651878</td>\n",
       "      <td>0.273160</td>\n",
       "    </tr>\n",
       "    <tr>\n",
       "      <th>std</th>\n",
       "      <td>5.059436</td>\n",
       "      <td>1.125523</td>\n",
       "      <td>1.145213</td>\n",
       "      <td>0.120877</td>\n",
       "      <td>6.756316</td>\n",
       "      <td>0.138323</td>\n",
       "      <td>0.170214</td>\n",
       "      <td>0.239889</td>\n",
       "      <td>0.105708</td>\n",
       "      <td>0.086838</td>\n",
       "    </tr>\n",
       "    <tr>\n",
       "      <th>min</th>\n",
       "      <td>2005.000000</td>\n",
       "      <td>1.281271</td>\n",
       "      <td>5.526723</td>\n",
       "      <td>0.228217</td>\n",
       "      <td>6.720000</td>\n",
       "      <td>0.228301</td>\n",
       "      <td>-0.339547</td>\n",
       "      <td>0.035198</td>\n",
       "      <td>0.178886</td>\n",
       "      <td>0.082737</td>\n",
       "    </tr>\n",
       "    <tr>\n",
       "      <th>25%</th>\n",
       "      <td>2011.000000</td>\n",
       "      <td>4.646750</td>\n",
       "      <td>8.520145</td>\n",
       "      <td>0.744106</td>\n",
       "      <td>59.545000</td>\n",
       "      <td>0.662055</td>\n",
       "      <td>-0.127570</td>\n",
       "      <td>0.655807</td>\n",
       "      <td>0.572984</td>\n",
       "      <td>0.208656</td>\n",
       "    </tr>\n",
       "    <tr>\n",
       "      <th>50%</th>\n",
       "      <td>2015.000000</td>\n",
       "      <td>5.448725</td>\n",
       "      <td>9.491772</td>\n",
       "      <td>0.833621</td>\n",
       "      <td>65.099998</td>\n",
       "      <td>0.771122</td>\n",
       "      <td>-0.028736</td>\n",
       "      <td>0.789678</td>\n",
       "      <td>0.662318</td>\n",
       "      <td>0.263090</td>\n",
       "    </tr>\n",
       "    <tr>\n",
       "      <th>75%</th>\n",
       "      <td>2019.000000</td>\n",
       "      <td>6.323592</td>\n",
       "      <td>10.381806</td>\n",
       "      <td>0.903636</td>\n",
       "      <td>68.400002</td>\n",
       "      <td>0.860766</td>\n",
       "      <td>0.088079</td>\n",
       "      <td>0.863694</td>\n",
       "      <td>0.736519</td>\n",
       "      <td>0.325661</td>\n",
       "    </tr>\n",
       "    <tr>\n",
       "      <th>max</th>\n",
       "      <td>2023.000000</td>\n",
       "      <td>8.018934</td>\n",
       "      <td>11.675588</td>\n",
       "      <td>0.987343</td>\n",
       "      <td>74.599998</td>\n",
       "      <td>0.985178</td>\n",
       "      <td>0.699570</td>\n",
       "      <td>0.983276</td>\n",
       "      <td>0.883586</td>\n",
       "      <td>0.704590</td>\n",
       "    </tr>\n",
       "  </tbody>\n",
       "</table>\n",
       "</div>"
      ],
      "text/plain": [
       "              year  Life Ladder  Log GDP per capita  Social support  \\\n",
       "count  2363.000000  2363.000000         2363.000000     2363.000000   \n",
       "mean   2014.763860     5.483562            9.399673        0.809369   \n",
       "std       5.059436     1.125523            1.145213        0.120877   \n",
       "min    2005.000000     1.281271            5.526723        0.228217   \n",
       "25%    2011.000000     4.646750            8.520145        0.744106   \n",
       "50%    2015.000000     5.448725            9.491772        0.833621   \n",
       "75%    2019.000000     6.323592           10.381806        0.903636   \n",
       "max    2023.000000     8.018934           11.675588        0.987343   \n",
       "\n",
       "       Healthy life expectancy at birth  Freedom to make life choices  \\\n",
       "count                       2363.000000                   2363.000000   \n",
       "mean                          63.447103                      0.750608   \n",
       "std                            6.756316                      0.138323   \n",
       "min                            6.720000                      0.228301   \n",
       "25%                           59.545000                      0.662055   \n",
       "50%                           65.099998                      0.771122   \n",
       "75%                           68.400002                      0.860766   \n",
       "max                           74.599998                      0.985178   \n",
       "\n",
       "        Generosity  Perceptions of corruption  Positive affect  \\\n",
       "count  2363.000000                2363.000000      2363.000000   \n",
       "mean     -0.011547                   0.706467         0.651878   \n",
       "std       0.170214                   0.239889         0.105708   \n",
       "min      -0.339547                   0.035198         0.178886   \n",
       "25%      -0.127570                   0.655807         0.572984   \n",
       "50%      -0.028736                   0.789678         0.662318   \n",
       "75%       0.088079                   0.863694         0.736519   \n",
       "max       0.699570                   0.983276         0.883586   \n",
       "\n",
       "       Negative affect  \n",
       "count      2363.000000  \n",
       "mean          0.273160  \n",
       "std           0.086838  \n",
       "min           0.082737  \n",
       "25%           0.208656  \n",
       "50%           0.263090  \n",
       "75%           0.325661  \n",
       "max           0.704590  "
      ]
     },
     "execution_count": 17,
     "metadata": {},
     "output_type": "execute_result"
    }
   ],
   "source": [
    "df_happiness.describe()"
   ]
  },
  {
   "cell_type": "markdown",
   "id": "c927726a",
   "metadata": {},
   "source": [
    "The range for most numerical columns, such as year, Life Ladder, Log GDP per capita, Social support, Freedom to make life choices, Positive affect, and Negative affect, appear consistent with expected values and scales.There are negative values in the Generosity column, after checking with the World Happiness website, the negative values in the Generosity column have been verified.\\\n",
    "\\\n",
    "The minimum value for **Healthy life expectancy at birth** at 6.72 years seems potentially inaccurate, suggesting a possible data entry error or anomaly that needs verification and correction."
   ]
  },
  {
   "cell_type": "code",
   "execution_count": 18,
   "id": "f0f518fc",
   "metadata": {},
   "outputs": [
    {
     "name": "stdout",
     "output_type": "stream",
     "text": [
      "    Country name  year  Life Ladder  Log GDP per capita  Social support  \\\n",
      "818        Haiti  2006     3.754156            7.976453        0.693801   \n",
      "819        Haiti  2008     3.846329            8.015880        0.679098   \n",
      "\n",
      "     Healthy life expectancy at birth  Freedom to make life choices  \\\n",
      "818                          6.720000                      0.449475   \n",
      "819                         17.360001                      0.464971   \n",
      "\n",
      "     Generosity  Perceptions of corruption  Positive affect  Negative affect  \n",
      "818    0.354996                   0.853506         0.583196         0.332141  \n",
      "819    0.213010                   0.811659         0.572523         0.255774  \n"
     ]
    }
   ],
   "source": [
    "# Check for outliers or incorrect values in 'Healthy life expectancy at birth'\n",
    "print(df_happiness[df_happiness['Healthy life expectancy at birth'] < 20])"
   ]
  },
  {
   "cell_type": "markdown",
   "id": "2522b9c0",
   "metadata": {},
   "source": [
    "Based on the output, it seems that the low values for Healthy life expectancy at birth are associated with Haiti in the years 2006 and 2008. Checked on the World Health Organization (https://apps.who.int/gho/data/view.main.SDG2016LEXv?lang=en) and looking at the Life expectancy data, WHO doesn't have 2006 and 2008 however they do have Haiti's healthy life expectancy at birth for the years 2000 (50), 2010 (28), 2015 (54.6), and 2019 (55.8). "
   ]
  },
  {
   "cell_type": "markdown",
   "id": "bea5745b",
   "metadata": {},
   "source": [
    "Given the original data and the need to correct the inconsistent values for 2006 and 2008 based on the reliable WHO, I am going to:\n",
    "\n",
    "1. Create a DataFrame with the reliable data and the years needing interpolation.\n",
    "2. Perform interpolation on the selected years.\n",
    "3. Replace the values in the original DataFrame."
   ]
  },
  {
   "cell_type": "code",
   "execution_count": 38,
   "id": "f035c4a0",
   "metadata": {},
   "outputs": [],
   "source": [
    "# Provided reliable data for Haiti from WHO\n",
    "who_data = {\n",
    "    'year': [2000, 2010, 2015, 2019],\n",
    "    'Healthy life expectancy at birth': [50, 28, 54.6, 55.8]\n",
    "}"
   ]
  },
  {
   "cell_type": "code",
   "execution_count": 39,
   "id": "fafa33d2",
   "metadata": {},
   "outputs": [],
   "source": [
    "# Create a DataFrame for WHO data\n",
    "df_who = pd.DataFrame(who_data)\n",
    "df_who['Country name'] = 'Haiti'"
   ]
  },
  {
   "cell_type": "code",
   "execution_count": 40,
   "id": "7fe1a858",
   "metadata": {},
   "outputs": [],
   "source": [
    "# Additional data with years needing interpolation\n",
    "additional_data = {\n",
    "    'year': [2006, 2008],\n",
    "    'Healthy life expectancy at birth': [np.nan, np.nan]\n",
    "}"
   ]
  },
  {
   "cell_type": "code",
   "execution_count": 41,
   "id": "e6867142",
   "metadata": {},
   "outputs": [],
   "source": [
    "# Create a DataFrame for additional data\n",
    "df_additional = pd.DataFrame(additional_data)\n",
    "df_additional['Country name'] = 'Haiti'"
   ]
  },
  {
   "cell_type": "code",
   "execution_count": 42,
   "id": "63ab03f0",
   "metadata": {},
   "outputs": [],
   "source": [
    "# Combine the reliable data with the additional data\n",
    "df_combined = pd.concat([df_who, df_additional]).sort_values(by='year').reset_index(drop=True)"
   ]
  },
  {
   "cell_type": "code",
   "execution_count": 43,
   "id": "023889b9",
   "metadata": {},
   "outputs": [],
   "source": [
    "# Interpolate missing values\n",
    "df_combined['Healthy life expectancy at birth'] = df_combined['Healthy life expectancy at birth'].interpolate()"
   ]
  },
  {
   "cell_type": "code",
   "execution_count": 44,
   "id": "d673e7fb",
   "metadata": {},
   "outputs": [],
   "source": [
    "# Extract the interpolated values for 2006 and 2008\n",
    "interpolated_values = df_combined[df_combined['year'].isin([2006, 2008])]"
   ]
  },
  {
   "cell_type": "code",
   "execution_count": 45,
   "id": "90a00042",
   "metadata": {},
   "outputs": [
    {
     "name": "stdout",
     "output_type": "stream",
     "text": [
      "Interpolated values for 2006 and 2008:\n",
      "   year  Healthy life expectancy at birth Country name\n",
      "1  2006                         42.666667        Haiti\n",
      "2  2008                         35.333333        Haiti\n"
     ]
    }
   ],
   "source": [
    "# Display the interpolated values\n",
    "print(\"Interpolated values for 2006 and 2008:\")\n",
    "print(interpolated_values)"
   ]
  },
  {
   "cell_type": "code",
   "execution_count": 46,
   "id": "0c66543b",
   "metadata": {},
   "outputs": [],
   "source": [
    "# Replace outlier values with interpolated data\n",
    "for index, row in interpolated_values.iterrows():\n",
    "    df_happiness.loc[(df_happiness['Country name'] == row['Country name']) & \n",
    "                     (df_happiness['year'] == row['year']), \n",
    "                     'Healthy life expectancy at birth'] = row['Healthy life expectancy at birth']"
   ]
  },
  {
   "cell_type": "code",
   "execution_count": 47,
   "id": "eec99893",
   "metadata": {
    "scrolled": true
   },
   "outputs": [
    {
     "name": "stdout",
     "output_type": "stream",
     "text": [
      "Updated values for Haiti in the original dataset:\n",
      "    Country name  year  Healthy life expectancy at birth\n",
      "818        Haiti  2006                         42.666667\n",
      "819        Haiti  2008                         35.333333\n",
      "820        Haiti  2010                         28.000000\n",
      "821        Haiti  2011                         33.320000\n",
      "822        Haiti  2012                         38.639999\n",
      "823        Haiti  2013                         43.959999\n",
      "824        Haiti  2014                         49.279999\n",
      "825        Haiti  2015                         54.599998\n",
      "826        Haiti  2016                         54.900002\n",
      "827        Haiti  2017                         55.200001\n",
      "828        Haiti  2018                         55.500000\n"
     ]
    }
   ],
   "source": [
    "# Verify the changes made\n",
    "print(\"Updated values for Haiti in the original dataset:\")\n",
    "print(df_happiness[df_happiness['Country name'] == 'Haiti'][['Country name', 'year', 'Healthy life expectancy at birth']])"
   ]
  },
  {
   "cell_type": "markdown",
   "id": "5f05ca08",
   "metadata": {},
   "source": [
    "### Renaming Columns to Snake Case For Consistency"
   ]
  },
  {
   "cell_type": "code",
   "execution_count": 49,
   "id": "5c8307a8",
   "metadata": {
    "scrolled": true
   },
   "outputs": [
    {
     "data": {
      "text/plain": [
       "['Country name',\n",
       " 'year',\n",
       " 'Life Ladder',\n",
       " 'Log GDP per capita',\n",
       " 'Social support',\n",
       " 'Healthy life expectancy at birth',\n",
       " 'Freedom to make life choices',\n",
       " 'Generosity',\n",
       " 'Perceptions of corruption',\n",
       " 'Positive affect',\n",
       " 'Negative affect']"
      ]
     },
     "execution_count": 49,
     "metadata": {},
     "output_type": "execute_result"
    }
   ],
   "source": [
    "# Print the column names\n",
    "list(df_happiness.columns)"
   ]
  },
  {
   "cell_type": "code",
   "execution_count": 51,
   "id": "e07dfdb6",
   "metadata": {},
   "outputs": [],
   "source": [
    "# Define the new column names in snake_case\n",
    "new_column_names = {\n",
    "    'Country name': 'country_name',\n",
    "    'year': 'year',\n",
    "    'Life Ladder': 'life_ladder',\n",
    "    'Log GDP per capita': 'log_gdp_per_capita',\n",
    "    'Social support': 'social_support',\n",
    "    'Healthy life expectancy at birth': 'healthy_life_expectancy_at_birth',\n",
    "    'Freedom to make life choices': 'freedom_to_make_life_choices',\n",
    "    'Generosity': 'generosity',\n",
    "    'Perceptions of corruption': 'perceptions_of_corruption',\n",
    "    'Positive affect': 'positive_affect',\n",
    "    'Negative affect': 'negative_affect'\n",
    "}"
   ]
  },
  {
   "cell_type": "code",
   "execution_count": 52,
   "id": "abcdd587",
   "metadata": {},
   "outputs": [],
   "source": [
    "# Rename the columns in the DataFrame\n",
    "df_happiness.rename(columns=new_column_names, inplace=True)"
   ]
  },
  {
   "cell_type": "code",
   "execution_count": 53,
   "id": "87b29ce0",
   "metadata": {},
   "outputs": [
    {
     "name": "stdout",
     "output_type": "stream",
     "text": [
      "Index(['country_name', 'year', 'life_ladder', 'log_gdp_per_capita',\n",
      "       'social_support', 'healthy_life_expectancy_at_birth',\n",
      "       'freedom_to_make_life_choices', 'generosity',\n",
      "       'perceptions_of_corruption', 'positive_affect', 'negative_affect'],\n",
      "      dtype='object')\n"
     ]
    }
   ],
   "source": [
    "# Print the updated column names to verify changes\n",
    "print(df_happiness.columns)"
   ]
  },
  {
   "cell_type": "markdown",
   "id": "3d5a98d8",
   "metadata": {},
   "source": [
    "## 03. Assigning Regions to Each Country"
   ]
  },
  {
   "cell_type": "markdown",
   "id": "85273720",
   "metadata": {},
   "source": [
    "Assigning regions to each country allows for more granular and region-specific analysis, enabling the identification of regional trends and comparisons in the dataset.\\\n",
    "\\\n",
    "This would also fufill the requirement *\"Include a geographical component with at least 2 different values (e.g., countries, continents,\n",
    "U.S. states, cities, latitude and longitude values—anything you can visualize on a map!).\"*"
   ]
  },
  {
   "cell_type": "code",
   "execution_count": 54,
   "id": "83b21b9d",
   "metadata": {},
   "outputs": [],
   "source": [
    "# Get all unique values in the country_name column\n",
    "unique_countries = df_happiness['country_name'].unique()"
   ]
  },
  {
   "cell_type": "code",
   "execution_count": 55,
   "id": "a9666b67",
   "metadata": {},
   "outputs": [
    {
     "data": {
      "text/plain": [
       "array(['Afghanistan', 'Albania', 'Algeria', 'Angola', 'Argentina',\n",
       "       'Armenia', 'Australia', 'Austria', 'Azerbaijan', 'Bahrain',\n",
       "       'Bangladesh', 'Belarus', 'Belgium', 'Belize', 'Benin', 'Bhutan',\n",
       "       'Bolivia', 'Bosnia and Herzegovina', 'Botswana', 'Brazil',\n",
       "       'Bulgaria', 'Burkina Faso', 'Burundi', 'Cambodia', 'Cameroon',\n",
       "       'Canada', 'Central African Republic', 'Chad', 'Chile', 'China',\n",
       "       'Colombia', 'Comoros', 'Congo (Brazzaville)', 'Congo (Kinshasa)',\n",
       "       'Costa Rica', 'Croatia', 'Cuba', 'Cyprus', 'Czechia', 'Denmark',\n",
       "       'Djibouti', 'Dominican Republic', 'Ecuador', 'Egypt',\n",
       "       'El Salvador', 'Estonia', 'Eswatini', 'Ethiopia', 'Finland',\n",
       "       'France', 'Gabon', 'Gambia', 'Georgia', 'Germany', 'Ghana',\n",
       "       'Greece', 'Guatemala', 'Guinea', 'Guyana', 'Haiti', 'Honduras',\n",
       "       'Hong Kong S.A.R. of China', 'Hungary', 'Iceland', 'India',\n",
       "       'Indonesia', 'Iran', 'Iraq', 'Ireland', 'Israel', 'Italy',\n",
       "       'Ivory Coast', 'Jamaica', 'Japan', 'Jordan', 'Kazakhstan', 'Kenya',\n",
       "       'Kosovo', 'Kuwait', 'Kyrgyzstan', 'Laos', 'Latvia', 'Lebanon',\n",
       "       'Lesotho', 'Liberia', 'Libya', 'Lithuania', 'Luxembourg',\n",
       "       'Madagascar', 'Malawi', 'Malaysia', 'Maldives', 'Mali', 'Malta',\n",
       "       'Mauritania', 'Mauritius', 'Mexico', 'Moldova', 'Mongolia',\n",
       "       'Montenegro', 'Morocco', 'Mozambique', 'Myanmar', 'Namibia',\n",
       "       'Nepal', 'Netherlands', 'New Zealand', 'Nicaragua', 'Niger',\n",
       "       'Nigeria', 'North Macedonia', 'Norway', 'Oman', 'Pakistan',\n",
       "       'Panama', 'Paraguay', 'Peru', 'Philippines', 'Poland', 'Portugal',\n",
       "       'Qatar', 'Romania', 'Russia', 'Rwanda', 'Saudi Arabia', 'Senegal',\n",
       "       'Serbia', 'Sierra Leone', 'Singapore', 'Slovakia', 'Slovenia',\n",
       "       'Somalia', 'Somaliland region', 'South Africa', 'South Korea',\n",
       "       'South Sudan', 'Spain', 'Sri Lanka', 'State of Palestine', 'Sudan',\n",
       "       'Suriname', 'Sweden', 'Switzerland', 'Syria',\n",
       "       'Taiwan Province of China', 'Tajikistan', 'Tanzania', 'Thailand',\n",
       "       'Togo', 'Trinidad and Tobago', 'Tunisia', 'Turkmenistan',\n",
       "       'Türkiye', 'Uganda', 'Ukraine', 'United Arab Emirates',\n",
       "       'United Kingdom', 'United States', 'Uruguay', 'Uzbekistan',\n",
       "       'Venezuela', 'Vietnam', 'Yemen', 'Zambia', 'Zimbabwe'],\n",
       "      dtype=object)"
      ]
     },
     "execution_count": 55,
     "metadata": {},
     "output_type": "execute_result"
    }
   ],
   "source": [
    "unique_countries"
   ]
  },
  {
   "cell_type": "markdown",
   "id": "ad4629ab",
   "metadata": {},
   "source": [
    "### List of Proposed Regional Separation\n",
    "1. **Western Europe:** This region is characterized by advanced economies, high standards of living, and includes countries with similar cultural and historical backgrounds.\n",
    "2. **Australia and New Zealand:** These countries are geographically isolated from other continents but share cultural and historical ties with Western countries.\n",
    "3. **Middle East and Northern Africa:** This region includes countries with shared historical, cultural, and religious ties, and often similar economic and political contexts.\n",
    "4. **Latin America and Caribbean:** This region includes Spanish and Portuguese-speaking countries in the Americas with shared historical backgrounds and socio-economic characteristics.\n",
    "5. **North America:** This region includes the highly developed countries of the United States and Canada, which share economic and cultural ties.\n",
    "6. **Southeastern Asia:** This region includes countries located in the Southeast Asian subregion, sharing tropical climates and similar economic activities.\n",
    "7. **Eastern Asia:** This region includes economically significant and populous countries in East Asia.\n",
    "8. **Central and Eastern Europe:** This region includes countries that share historical ties with the Eastern Bloc and have transitioned from communist regimes.\n",
    "9. **Sub-Saharan Africa:** This region includes countries located south of the Sahara Desert, sharing similar developmental challenges and cultural traits.\n",
    "10. **Southern Asia:** This region includes countries on the Indian subcontinent, characterized by diverse cultures and significant populations."
   ]
  },
  {
   "cell_type": "code",
   "execution_count": 56,
   "id": "66358c4c",
   "metadata": {},
   "outputs": [],
   "source": [
    "# Define a dictionary to map countries to regions\n",
    "country_to_region = {\n",
    "    'Afghanistan': 'Southern Asia',\n",
    "    'Albania': 'Central and Eastern Europe',\n",
    "    'Algeria': 'Middle East and Northern Africa',\n",
    "    'Angola': 'Sub-Saharan Africa',\n",
    "    'Argentina': 'Latin America and Caribbean',\n",
    "    'Armenia': 'Central and Eastern Europe',\n",
    "    'Australia': 'Australia and New Zealand',\n",
    "    'Austria': 'Western Europe',\n",
    "    'Azerbaijan': 'Central and Eastern Europe',\n",
    "    'Bahrain': 'Middle East and Northern Africa',\n",
    "    'Bangladesh': 'Southern Asia',\n",
    "    'Belarus': 'Central and Eastern Europe',\n",
    "    'Belgium': 'Western Europe',\n",
    "    'Belize': 'Latin America and Caribbean',\n",
    "    'Benin': 'Sub-Saharan Africa',\n",
    "    'Bhutan': 'Southern Asia',\n",
    "    'Bolivia': 'Latin America and Caribbean',\n",
    "    'Bosnia and Herzegovina': 'Central and Eastern Europe',\n",
    "    'Botswana': 'Sub-Saharan Africa',\n",
    "    'Brazil': 'Latin America and Caribbean',\n",
    "    'Bulgaria': 'Central and Eastern Europe',\n",
    "    'Burkina Faso': 'Sub-Saharan Africa',\n",
    "    'Burundi': 'Sub-Saharan Africa',\n",
    "    'Cambodia': 'Southeastern Asia',\n",
    "    'Cameroon': 'Sub-Saharan Africa',\n",
    "    'Canada': 'North America',\n",
    "    'Central African Republic': 'Sub-Saharan Africa',\n",
    "    'Chad': 'Sub-Saharan Africa',\n",
    "    'Chile': 'Latin America and Caribbean',\n",
    "    'China': 'Eastern Asia',\n",
    "    'Colombia': 'Latin America and Caribbean',\n",
    "    'Comoros': 'Sub-Saharan Africa',\n",
    "    'Congo (Brazzaville)': 'Sub-Saharan Africa',\n",
    "    'Congo (Kinshasa)': 'Sub-Saharan Africa',\n",
    "    'Costa Rica': 'Latin America and Caribbean',\n",
    "    'Croatia': 'Central and Eastern Europe',\n",
    "    'Cuba': 'Latin America and Caribbean',\n",
    "    'Cyprus': 'Middle East and Northern Africa',\n",
    "    'Czechia': 'Central and Eastern Europe',\n",
    "    'Denmark': 'Western Europe',\n",
    "    'Djibouti': 'Sub-Saharan Africa',\n",
    "    'Dominican Republic': 'Latin America and Caribbean',\n",
    "    'Ecuador': 'Latin America and Caribbean',\n",
    "    'Egypt': 'Middle East and Northern Africa',\n",
    "    'El Salvador': 'Latin America and Caribbean',\n",
    "    'Estonia': 'Central and Eastern Europe',\n",
    "    'Eswatini': 'Sub-Saharan Africa',\n",
    "    'Ethiopia': 'Sub-Saharan Africa',\n",
    "    'Finland': 'Western Europe',\n",
    "    'France': 'Western Europe',\n",
    "    'Gabon': 'Sub-Saharan Africa',\n",
    "    'Gambia': 'Sub-Saharan Africa',\n",
    "    'Georgia': 'Central and Eastern Europe',\n",
    "    'Germany': 'Western Europe',\n",
    "    'Ghana': 'Sub-Saharan Africa',\n",
    "    'Greece': 'Western Europe',\n",
    "    'Guatemala': 'Latin America and Caribbean',\n",
    "    'Guinea': 'Sub-Saharan Africa',\n",
    "    'Guyana': 'Latin America and Caribbean',\n",
    "    'Haiti': 'Latin America and Caribbean',\n",
    "    'Honduras': 'Latin America and Caribbean',\n",
    "    'Hong Kong S.A.R. of China': 'Eastern Asia',\n",
    "    'Hungary': 'Central and Eastern Europe',\n",
    "    'Iceland': 'Western Europe',\n",
    "    'India': 'Southern Asia',\n",
    "    'Indonesia': 'Southeastern Asia',\n",
    "    'Iran': 'Southern Asia',\n",
    "    'Iraq': 'Middle East and Northern Africa',\n",
    "    'Ireland': 'Western Europe',\n",
    "    'Israel': 'Middle East and Northern Africa',\n",
    "    'Italy': 'Western Europe',\n",
    "    'Ivory Coast': 'Sub-Saharan Africa',\n",
    "    'Jamaica': 'Latin America and Caribbean',\n",
    "    'Japan': 'Eastern Asia',\n",
    "    'Jordan': 'Middle East and Northern Africa',\n",
    "    'Kazakhstan': 'Central and Eastern Europe',\n",
    "    'Kenya': 'Sub-Saharan Africa',\n",
    "    'Kosovo': 'Central and Eastern Europe',\n",
    "    'Kuwait': 'Middle East and Northern Africa',\n",
    "    'Kyrgyzstan': 'Central and Eastern Europe',\n",
    "    'Laos': 'Southeastern Asia',\n",
    "    'Latvia': 'Central and Eastern Europe',\n",
    "    'Lebanon': 'Middle East and Northern Africa',\n",
    "    'Lesotho': 'Sub-Saharan Africa',\n",
    "    'Liberia': 'Sub-Saharan Africa',\n",
    "    'Libya': 'Middle East and Northern Africa',\n",
    "    'Lithuania': 'Central and Eastern Europe',\n",
    "    'Luxembourg': 'Western Europe',\n",
    "    'Madagascar': 'Sub-Saharan Africa',\n",
    "    'Malawi': 'Sub-Saharan Africa',\n",
    "    'Malaysia': 'Southeastern Asia',\n",
    "    'Maldives': 'Southern Asia',\n",
    "    'Mali': 'Sub-Saharan Africa',\n",
    "    'Malta': 'Western Europe',\n",
    "    'Mauritania': 'Sub-Saharan Africa',\n",
    "    'Mauritius': 'Sub-Saharan Africa',\n",
    "    'Mexico': 'Latin America and Caribbean',\n",
    "    'Moldova': 'Central and Eastern Europe',\n",
    "    'Mongolia': 'Eastern Asia',\n",
    "    'Montenegro': 'Central and Eastern Europe',\n",
    "    'Morocco': 'Middle East and Northern Africa',\n",
    "    'Mozambique': 'Sub-Saharan Africa',\n",
    "    'Myanmar': 'Southeastern Asia',\n",
    "    'Namibia': 'Sub-Saharan Africa',\n",
    "    'Nepal': 'Southern Asia',\n",
    "    'Netherlands': 'Western Europe',\n",
    "    'New Zealand': 'Australia and New Zealand',\n",
    "    'Nicaragua': 'Latin America and Caribbean',\n",
    "    'Niger': 'Sub-Saharan Africa',\n",
    "    'Nigeria': 'Sub-Saharan Africa',\n",
    "    'North Macedonia': 'Central and Eastern Europe',\n",
    "    'Norway': 'Western Europe',\n",
    "    'Oman': 'Middle East and Northern Africa',\n",
    "    'Pakistan': 'Southern Asia',\n",
    "    'Panama': 'Latin America and Caribbean',\n",
    "    'Paraguay': 'Latin America and Caribbean',\n",
    "    'Peru': 'Latin America and Caribbean',\n",
    "    'Philippines': 'Southeastern Asia',\n",
    "    'Poland': 'Central and Eastern Europe',\n",
    "    'Portugal': 'Western Europe',\n",
    "    'Qatar': 'Middle East and Northern Africa',\n",
    "    'Romania': 'Central and Eastern Europe',\n",
    "    'Russia': 'Central and Eastern Europe',\n",
    "    'Rwanda': 'Sub-Saharan Africa',\n",
    "    'Saudi Arabia': 'Middle East and Northern Africa',\n",
    "    'Senegal': 'Sub-Saharan Africa',\n",
    "    'Serbia': 'Central and Eastern Europe',\n",
    "    'Sierra Leone': 'Sub-Saharan Africa',\n",
    "    'Singapore': 'Southeastern Asia',\n",
    "    'Slovakia': 'Central and Eastern Europe',\n",
    "    'Slovenia': 'Central and Eastern Europe',\n",
    "    'Somalia': 'Sub-Saharan Africa',\n",
    "    'Somaliland region': 'Sub-Saharan Africa',\n",
    "    'South Africa': 'Sub-Saharan Africa',\n",
    "    'South Korea': 'Eastern Asia',\n",
    "    'South Sudan': 'Sub-Saharan Africa',\n",
    "    'Spain': 'Western Europe',\n",
    "    'Sri Lanka': 'Southern Asia',\n",
    "    'State of Palestine': 'Middle East and Northern Africa',\n",
    "    'Sudan': 'Sub-Saharan Africa',\n",
    "    'Suriname': 'Latin America and Caribbean',\n",
    "    'Sweden': 'Western Europe',\n",
    "    'Switzerland': 'Western Europe',\n",
    "    'Syria': 'Middle East and Northern Africa',\n",
    "    'Taiwan Province of China': 'Eastern Asia',\n",
    "    'Tajikistan': 'Central and Eastern Europe',\n",
    "    'Tanzania': 'Sub-Saharan Africa',\n",
    "    'Thailand': 'Southeastern Asia',\n",
    "    'Togo': 'Sub-Saharan Africa',\n",
    "    'Trinidad and Tobago': 'Latin America and Caribbean',\n",
    "    'Tunisia': 'Middle East and Northern Africa',\n",
    "    'Turkmenistan': 'Central and Eastern Europe',\n",
    "    'Türkiye': 'Central and Eastern Europe',\n",
    "    'Uganda': 'Sub-Saharan Africa',\n",
    "    'Ukraine': 'Central and Eastern Europe',\n",
    "    'United Arab Emirates': 'Middle East and Northern Africa',\n",
    "    'United Kingdom': 'Western Europe',\n",
    "    'United States': 'North America',\n",
    "    'Uruguay': 'Latin America and Caribbean',\n",
    "    'Uzbekistan': 'Central and Eastern Europe',\n",
    "    'Venezuela': 'Latin America and Caribbean',\n",
    "    'Vietnam': 'Southeastern Asia',\n",
    "    'Yemen': 'Middle East and Northern Africa',\n",
    "    'Zambia': 'Sub-Saharan Africa',\n",
    "    'Zimbabwe': 'Sub-Saharan Africa'\n",
    "}"
   ]
  },
  {
   "cell_type": "code",
   "execution_count": 57,
   "id": "0424d154",
   "metadata": {},
   "outputs": [],
   "source": [
    "# Map the country_name column to regions and create a new region column\n",
    "df_happiness['region'] = df_happiness['country_name'].map(country_to_region)"
   ]
  },
  {
   "cell_type": "code",
   "execution_count": 58,
   "id": "8b0c2747",
   "metadata": {},
   "outputs": [
    {
     "name": "stdout",
     "output_type": "stream",
     "text": [
      "     country_name                           region\n",
      "0     Afghanistan                    Southern Asia\n",
      "15        Albania       Central and Eastern Europe\n",
      "31        Algeria  Middle East and Northern Africa\n",
      "42         Angola               Sub-Saharan Africa\n",
      "46      Argentina      Latin America and Caribbean\n",
      "...           ...                              ...\n",
      "2278    Venezuela      Latin America and Caribbean\n",
      "2296      Vietnam                Southeastern Asia\n",
      "2314        Yemen  Middle East and Northern Africa\n",
      "2328       Zambia               Sub-Saharan Africa\n",
      "2345     Zimbabwe               Sub-Saharan Africa\n",
      "\n",
      "[165 rows x 2 columns]\n"
     ]
    }
   ],
   "source": [
    "# Verify the mapping by printing unique combinations of country_name and region\n",
    "print(df_happiness[['country_name', 'region']].drop_duplicates())"
   ]
  },
  {
   "cell_type": "markdown",
   "id": "1539336c",
   "metadata": {},
   "source": [
    "## 04. Checking for Outliers"
   ]
  },
  {
   "cell_type": "code",
   "execution_count": 59,
   "id": "65a925e2",
   "metadata": {},
   "outputs": [],
   "source": [
    "# Define numerical columns to check for outliers\n",
    "numerical_columns = ['life_ladder', 'log_gdp_per_capita', 'social_support', \n",
    "                     'healthy_life_expectancy_at_birth', 'freedom_to_make_life_choices', \n",
    "                     'generosity', 'perceptions_of_corruption', 'positive_affect', 'negative_affect']"
   ]
  },
  {
   "cell_type": "code",
   "execution_count": 62,
   "id": "090ea3ed",
   "metadata": {},
   "outputs": [],
   "source": [
    "# Using IQR (Interquartile Range)\n",
    "Q1 = df_happiness[numerical_columns].quantile(0.25)\n",
    "Q3 = df_happiness[numerical_columns].quantile(0.75)\n",
    "IQR = Q3 - Q1"
   ]
  },
  {
   "cell_type": "code",
   "execution_count": 63,
   "id": "d915fab9",
   "metadata": {},
   "outputs": [
    {
     "name": "stdout",
     "output_type": "stream",
     "text": [
      "Outliers identified using IQR method:\n",
      "     country_name  year  life_ladder  log_gdp_per_capita  social_support  \\\n",
      "0     Afghanistan  2008     3.723590            7.350416        0.450662   \n",
      "5     Afghanistan  2013     3.572100            7.680333        0.483552   \n",
      "9     Afghanistan  2017     2.661718            7.647830        0.490880   \n",
      "11    Afghanistan  2019     2.375092            7.640086        0.419973   \n",
      "12    Afghanistan  2021     2.436034            7.324501        0.454175   \n",
      "...           ...   ...          ...                 ...             ...   \n",
      "2345     Zimbabwe  2006     3.826268            7.459545        0.821656   \n",
      "2346     Zimbabwe  2007     3.280247            7.412637        0.828113   \n",
      "2347     Zimbabwe  2008     3.174264            7.210233        0.843475   \n",
      "2348     Zimbabwe  2009     4.055914            7.313474        0.805781   \n",
      "2349     Zimbabwe  2010     4.681570            7.495286        0.856638   \n",
      "\n",
      "      healthy_life_expectancy_at_birth  freedom_to_make_life_choices  \\\n",
      "0                            50.500000                      0.718114   \n",
      "5                            52.000000                      0.577955   \n",
      "9                            53.250000                      0.427011   \n",
      "11                           53.900002                      0.393656   \n",
      "12                           54.549999                      0.394306   \n",
      "...                                ...                           ...   \n",
      "2345                         40.400002                      0.431110   \n",
      "2346                         41.599998                      0.455957   \n",
      "2347                         42.799999                      0.343556   \n",
      "2348                         44.000000                      0.411089   \n",
      "2349                         45.200001                      0.664718   \n",
      "\n",
      "      generosity  perceptions_of_corruption  positive_affect  negative_affect  \\\n",
      "0       0.164055                   0.881686         0.414297         0.258195   \n",
      "5       0.059246                   0.823204         0.547417         0.273328   \n",
      "9      -0.122848                   0.954393         0.435270         0.371326   \n",
      "11     -0.109458                   0.923849         0.324108         0.502474   \n",
      "12     -0.084656                   0.946299         0.178886         0.606713   \n",
      "...          ...                        ...              ...              ...   \n",
      "2345   -0.063465                   0.904757         0.668662         0.297147   \n",
      "2346   -0.069041                   0.946287         0.588695         0.264989   \n",
      "2347   -0.076715                   0.963846         0.570538         0.250060   \n",
      "2348   -0.064869                   0.930818         0.660173         0.218419   \n",
      "2349   -0.081170                   0.828361         0.699366         0.122150   \n",
      "\n",
      "                  region  \n",
      "0          Southern Asia  \n",
      "5          Southern Asia  \n",
      "9          Southern Asia  \n",
      "11         Southern Asia  \n",
      "12         Southern Asia  \n",
      "...                  ...  \n",
      "2345  Sub-Saharan Africa  \n",
      "2346  Sub-Saharan Africa  \n",
      "2347  Sub-Saharan Africa  \n",
      "2348  Sub-Saharan Africa  \n",
      "2349  Sub-Saharan Africa  \n",
      "\n",
      "[395 rows x 12 columns]\n"
     ]
    }
   ],
   "source": [
    "outliers_iqr = df_happiness[((df_happiness[numerical_columns] < (Q1 - 1.5 * IQR)) | (df_happiness[numerical_columns] > (Q3 + 1.5 * IQR))).any(axis=1)]\n",
    "print(\"Outliers identified using IQR method:\")\n",
    "print(outliers_iqr)"
   ]
  },
  {
   "cell_type": "code",
   "execution_count": 67,
   "id": "a177b73e",
   "metadata": {},
   "outputs": [
    {
     "name": "stderr",
     "output_type": "stream",
     "text": [
      "/var/folders/79/dbxtn02s0kzdngngl4z03wch0000gp/T/ipykernel_4206/2404094726.py:3: UserWarning: When passing multiple axes, layout keyword is ignored.\n",
      "  df_happiness[numerical_columns].plot(kind='box', subplots=True, layout=(3, 3), ax=axes)\n"
     ]
    },
    {
     "data": {
      "image/png": "[encoded data removed]",
      "text/plain": [
       "<Figure size 1500x1000 with 9 Axes>"
      ]
     },
     "metadata": {},
     "output_type": "display_data"
    }
   ],
   "source": [
    "# Plot box plots for each numerical column and save the figure\n",
    "fig, axes = plt.subplots(nrows=3, ncols=3, figsize=(15, 10))\n",
    "df_happiness[numerical_columns].plot(kind='box', subplots=True, layout=(3, 3), ax=axes)\n",
    "plt.tight_layout()\n",
    "\n",
    "# Save the figure to a file\n",
    "plt.savefig(os.path.join(path, '04 Analysis', 'Visualizations', 'box_plots_original_data.png'))\n",
    "\n",
    "# Show the plot\n",
    "plt.show()"
   ]
  },
  {
   "cell_type": "markdown",
   "id": "bbfa34e7",
   "metadata": {},
   "source": [
    "- **Life Ladder:** The distribution appears slightly skewed to the lower side due to the presence of outliers.\n",
    "- **Log GDP per capita:** Distribution is approximately symmetric, but there is a minor left skew due to a lower outlier.\n",
    "- **Social Support:** Positively skewed with many lower outliers.\n",
    "- **Healthy Life Expectancy at Birth:** Positively skewed with many lower outliers.\n",
    "- **Freedom to Make Life Choices:** Positively skewed with many lower outliers.\n",
    "- **Generosity:** Negatively skewed with many upper outliers.\n",
    "- **Perceptions of Corruption:** Positively skewed with many lower outliers.\n",
    "- **Positive Affect:** Slightly positively skewed with a few lower outliers.\n",
    "- **Negative Affect:** Negatively skewed with many upper outliers."
   ]
  },
  {
   "cell_type": "markdown",
   "id": "663854bb",
   "metadata": {},
   "source": [
    "### Keeping Outliers\n",
    "In the context of analyzing the World Happiness Report 2024 dataset, I believe that the presence of outliers can provide valuable insights rather than being viewed solely as anomalies to be removed. Since the dataset encompasses a diverse range of countries with varying socio-economic conditions, cultural practices, and governmental policies, in this context I believe they represent genuine data variability and highlight countries that have a significant difference from the rest."
   ]
  },
  {
   "cell_type": "markdown",
   "id": "27df9a74",
   "metadata": {},
   "source": [
    "## 05. Cleaned Data Profile"
   ]
  },
  {
   "cell_type": "code",
   "execution_count": 68,
   "id": "c6bdb04e",
   "metadata": {},
   "outputs": [
    {
     "data": {
      "text/html": [
       "<div>\n",
       "<style scoped>\n",
       "    .dataframe tbody tr th:only-of-type {\n",
       "        vertical-align: middle;\n",
       "    }\n",
       "\n",
       "    .dataframe tbody tr th {\n",
       "        vertical-align: top;\n",
       "    }\n",
       "\n",
       "    .dataframe thead th {\n",
       "        text-align: right;\n",
       "    }\n",
       "</style>\n",
       "<table border=\"1\" class=\"dataframe\">\n",
       "  <thead>\n",
       "    <tr style=\"text-align: right;\">\n",
       "      <th></th>\n",
       "      <th>country_name</th>\n",
       "      <th>year</th>\n",
       "      <th>life_ladder</th>\n",
       "      <th>log_gdp_per_capita</th>\n",
       "      <th>social_support</th>\n",
       "      <th>healthy_life_expectancy_at_birth</th>\n",
       "      <th>freedom_to_make_life_choices</th>\n",
       "      <th>generosity</th>\n",
       "      <th>perceptions_of_corruption</th>\n",
       "      <th>positive_affect</th>\n",
       "      <th>negative_affect</th>\n",
       "      <th>region</th>\n",
       "    </tr>\n",
       "  </thead>\n",
       "  <tbody>\n",
       "    <tr>\n",
       "      <th>0</th>\n",
       "      <td>Afghanistan</td>\n",
       "      <td>2008</td>\n",
       "      <td>3.723590</td>\n",
       "      <td>7.350416</td>\n",
       "      <td>0.450662</td>\n",
       "      <td>50.500000</td>\n",
       "      <td>0.718114</td>\n",
       "      <td>0.164055</td>\n",
       "      <td>0.881686</td>\n",
       "      <td>0.414297</td>\n",
       "      <td>0.258195</td>\n",
       "      <td>Southern Asia</td>\n",
       "    </tr>\n",
       "    <tr>\n",
       "      <th>1</th>\n",
       "      <td>Afghanistan</td>\n",
       "      <td>2009</td>\n",
       "      <td>4.401778</td>\n",
       "      <td>7.508646</td>\n",
       "      <td>0.552308</td>\n",
       "      <td>50.799999</td>\n",
       "      <td>0.678896</td>\n",
       "      <td>0.187297</td>\n",
       "      <td>0.850035</td>\n",
       "      <td>0.481421</td>\n",
       "      <td>0.237092</td>\n",
       "      <td>Southern Asia</td>\n",
       "    </tr>\n",
       "    <tr>\n",
       "      <th>2</th>\n",
       "      <td>Afghanistan</td>\n",
       "      <td>2010</td>\n",
       "      <td>4.758381</td>\n",
       "      <td>7.613900</td>\n",
       "      <td>0.539075</td>\n",
       "      <td>51.099998</td>\n",
       "      <td>0.600127</td>\n",
       "      <td>0.117861</td>\n",
       "      <td>0.706766</td>\n",
       "      <td>0.516907</td>\n",
       "      <td>0.275324</td>\n",
       "      <td>Southern Asia</td>\n",
       "    </tr>\n",
       "    <tr>\n",
       "      <th>3</th>\n",
       "      <td>Afghanistan</td>\n",
       "      <td>2011</td>\n",
       "      <td>3.831719</td>\n",
       "      <td>7.581259</td>\n",
       "      <td>0.521104</td>\n",
       "      <td>51.400002</td>\n",
       "      <td>0.495901</td>\n",
       "      <td>0.160098</td>\n",
       "      <td>0.731109</td>\n",
       "      <td>0.479835</td>\n",
       "      <td>0.267175</td>\n",
       "      <td>Southern Asia</td>\n",
       "    </tr>\n",
       "    <tr>\n",
       "      <th>4</th>\n",
       "      <td>Afghanistan</td>\n",
       "      <td>2012</td>\n",
       "      <td>3.782938</td>\n",
       "      <td>7.660506</td>\n",
       "      <td>0.520637</td>\n",
       "      <td>51.700001</td>\n",
       "      <td>0.530935</td>\n",
       "      <td>0.234157</td>\n",
       "      <td>0.775620</td>\n",
       "      <td>0.613513</td>\n",
       "      <td>0.267919</td>\n",
       "      <td>Southern Asia</td>\n",
       "    </tr>\n",
       "  </tbody>\n",
       "</table>\n",
       "</div>"
      ],
      "text/plain": [
       "  country_name  year  life_ladder  log_gdp_per_capita  social_support  \\\n",
       "0  Afghanistan  2008     3.723590            7.350416        0.450662   \n",
       "1  Afghanistan  2009     4.401778            7.508646        0.552308   \n",
       "2  Afghanistan  2010     4.758381            7.613900        0.539075   \n",
       "3  Afghanistan  2011     3.831719            7.581259        0.521104   \n",
       "4  Afghanistan  2012     3.782938            7.660506        0.520637   \n",
       "\n",
       "   healthy_life_expectancy_at_birth  freedom_to_make_life_choices  generosity  \\\n",
       "0                         50.500000                      0.718114    0.164055   \n",
       "1                         50.799999                      0.678896    0.187297   \n",
       "2                         51.099998                      0.600127    0.117861   \n",
       "3                         51.400002                      0.495901    0.160098   \n",
       "4                         51.700001                      0.530935    0.234157   \n",
       "\n",
       "   perceptions_of_corruption  positive_affect  negative_affect         region  \n",
       "0                   0.881686         0.414297         0.258195  Southern Asia  \n",
       "1                   0.850035         0.481421         0.237092  Southern Asia  \n",
       "2                   0.706766         0.516907         0.275324  Southern Asia  \n",
       "3                   0.731109         0.479835         0.267175  Southern Asia  \n",
       "4                   0.775620         0.613513         0.267919  Southern Asia  "
      ]
     },
     "execution_count": 68,
     "metadata": {},
     "output_type": "execute_result"
    }
   ],
   "source": [
    "# Checking cleaned data\n",
    "df_happiness.head()"
   ]
  },
  {
   "cell_type": "code",
   "execution_count": 69,
   "id": "62836250",
   "metadata": {},
   "outputs": [
    {
     "data": {
      "text/plain": [
       "(2363, 12)"
      ]
     },
     "execution_count": 69,
     "metadata": {},
     "output_type": "execute_result"
    }
   ],
   "source": [
    "# Checking cleaned data\n",
    "df_happiness.shape"
   ]
  },
  {
   "cell_type": "code",
   "execution_count": 70,
   "id": "f2bf79ac",
   "metadata": {},
   "outputs": [
    {
     "name": "stdout",
     "output_type": "stream",
     "text": [
      "<class 'pandas.core.frame.DataFrame'>\n",
      "RangeIndex: 2363 entries, 0 to 2362\n",
      "Data columns (total 12 columns):\n",
      " #   Column                            Non-Null Count  Dtype  \n",
      "---  ------                            --------------  -----  \n",
      " 0   country_name                      2363 non-null   object \n",
      " 1   year                              2363 non-null   int64  \n",
      " 2   life_ladder                       2363 non-null   float64\n",
      " 3   log_gdp_per_capita                2363 non-null   float64\n",
      " 4   social_support                    2363 non-null   float64\n",
      " 5   healthy_life_expectancy_at_birth  2363 non-null   float64\n",
      " 6   freedom_to_make_life_choices      2363 non-null   float64\n",
      " 7   generosity                        2363 non-null   float64\n",
      " 8   perceptions_of_corruption         2363 non-null   float64\n",
      " 9   positive_affect                   2363 non-null   float64\n",
      " 10  negative_affect                   2363 non-null   float64\n",
      " 11  region                            2363 non-null   object \n",
      "dtypes: float64(9), int64(1), object(2)\n",
      "memory usage: 221.7+ KB\n"
     ]
    }
   ],
   "source": [
    "# Checking cleaned datframe info\n",
    "df_happiness.info()"
   ]
  },
  {
   "cell_type": "code",
   "execution_count": 71,
   "id": "3cb8d099",
   "metadata": {},
   "outputs": [
    {
     "data": {
      "text/html": [
       "<div>\n",
       "<style scoped>\n",
       "    .dataframe tbody tr th:only-of-type {\n",
       "        vertical-align: middle;\n",
       "    }\n",
       "\n",
       "    .dataframe tbody tr th {\n",
       "        vertical-align: top;\n",
       "    }\n",
       "\n",
       "    .dataframe thead th {\n",
       "        text-align: right;\n",
       "    }\n",
       "</style>\n",
       "<table border=\"1\" class=\"dataframe\">\n",
       "  <thead>\n",
       "    <tr style=\"text-align: right;\">\n",
       "      <th></th>\n",
       "      <th>year</th>\n",
       "      <th>life_ladder</th>\n",
       "      <th>log_gdp_per_capita</th>\n",
       "      <th>social_support</th>\n",
       "      <th>healthy_life_expectancy_at_birth</th>\n",
       "      <th>freedom_to_make_life_choices</th>\n",
       "      <th>generosity</th>\n",
       "      <th>perceptions_of_corruption</th>\n",
       "      <th>positive_affect</th>\n",
       "      <th>negative_affect</th>\n",
       "    </tr>\n",
       "  </thead>\n",
       "  <tbody>\n",
       "    <tr>\n",
       "      <th>count</th>\n",
       "      <td>2363.000000</td>\n",
       "      <td>2363.000000</td>\n",
       "      <td>2363.000000</td>\n",
       "      <td>2363.000000</td>\n",
       "      <td>2363.000000</td>\n",
       "      <td>2363.000000</td>\n",
       "      <td>2363.000000</td>\n",
       "      <td>2363.000000</td>\n",
       "      <td>2363.000000</td>\n",
       "      <td>2363.000000</td>\n",
       "    </tr>\n",
       "    <tr>\n",
       "      <th>mean</th>\n",
       "      <td>2014.763860</td>\n",
       "      <td>5.483562</td>\n",
       "      <td>9.399673</td>\n",
       "      <td>0.809369</td>\n",
       "      <td>63.469922</td>\n",
       "      <td>0.750608</td>\n",
       "      <td>-0.011547</td>\n",
       "      <td>0.706467</td>\n",
       "      <td>0.651878</td>\n",
       "      <td>0.273160</td>\n",
       "    </tr>\n",
       "    <tr>\n",
       "      <th>std</th>\n",
       "      <td>5.059436</td>\n",
       "      <td>1.125523</td>\n",
       "      <td>1.145213</td>\n",
       "      <td>0.120877</td>\n",
       "      <td>6.625941</td>\n",
       "      <td>0.138323</td>\n",
       "      <td>0.170214</td>\n",
       "      <td>0.239889</td>\n",
       "      <td>0.105708</td>\n",
       "      <td>0.086838</td>\n",
       "    </tr>\n",
       "    <tr>\n",
       "      <th>min</th>\n",
       "      <td>2005.000000</td>\n",
       "      <td>1.281271</td>\n",
       "      <td>5.526723</td>\n",
       "      <td>0.228217</td>\n",
       "      <td>28.000000</td>\n",
       "      <td>0.228301</td>\n",
       "      <td>-0.339547</td>\n",
       "      <td>0.035198</td>\n",
       "      <td>0.178886</td>\n",
       "      <td>0.082737</td>\n",
       "    </tr>\n",
       "    <tr>\n",
       "      <th>25%</th>\n",
       "      <td>2011.000000</td>\n",
       "      <td>4.646750</td>\n",
       "      <td>8.520145</td>\n",
       "      <td>0.744106</td>\n",
       "      <td>59.545000</td>\n",
       "      <td>0.662055</td>\n",
       "      <td>-0.127570</td>\n",
       "      <td>0.655807</td>\n",
       "      <td>0.572984</td>\n",
       "      <td>0.208656</td>\n",
       "    </tr>\n",
       "    <tr>\n",
       "      <th>50%</th>\n",
       "      <td>2015.000000</td>\n",
       "      <td>5.448725</td>\n",
       "      <td>9.491772</td>\n",
       "      <td>0.833621</td>\n",
       "      <td>65.099998</td>\n",
       "      <td>0.771122</td>\n",
       "      <td>-0.028736</td>\n",
       "      <td>0.789678</td>\n",
       "      <td>0.662318</td>\n",
       "      <td>0.263090</td>\n",
       "    </tr>\n",
       "    <tr>\n",
       "      <th>75%</th>\n",
       "      <td>2019.000000</td>\n",
       "      <td>6.323592</td>\n",
       "      <td>10.381806</td>\n",
       "      <td>0.903636</td>\n",
       "      <td>68.400002</td>\n",
       "      <td>0.860766</td>\n",
       "      <td>0.088079</td>\n",
       "      <td>0.863694</td>\n",
       "      <td>0.736519</td>\n",
       "      <td>0.325661</td>\n",
       "    </tr>\n",
       "    <tr>\n",
       "      <th>max</th>\n",
       "      <td>2023.000000</td>\n",
       "      <td>8.018934</td>\n",
       "      <td>11.675588</td>\n",
       "      <td>0.987343</td>\n",
       "      <td>74.599998</td>\n",
       "      <td>0.985178</td>\n",
       "      <td>0.699570</td>\n",
       "      <td>0.983276</td>\n",
       "      <td>0.883586</td>\n",
       "      <td>0.704590</td>\n",
       "    </tr>\n",
       "  </tbody>\n",
       "</table>\n",
       "</div>"
      ],
      "text/plain": [
       "              year  life_ladder  log_gdp_per_capita  social_support  \\\n",
       "count  2363.000000  2363.000000         2363.000000     2363.000000   \n",
       "mean   2014.763860     5.483562            9.399673        0.809369   \n",
       "std       5.059436     1.125523            1.145213        0.120877   \n",
       "min    2005.000000     1.281271            5.526723        0.228217   \n",
       "25%    2011.000000     4.646750            8.520145        0.744106   \n",
       "50%    2015.000000     5.448725            9.491772        0.833621   \n",
       "75%    2019.000000     6.323592           10.381806        0.903636   \n",
       "max    2023.000000     8.018934           11.675588        0.987343   \n",
       "\n",
       "       healthy_life_expectancy_at_birth  freedom_to_make_life_choices  \\\n",
       "count                       2363.000000                   2363.000000   \n",
       "mean                          63.469922                      0.750608   \n",
       "std                            6.625941                      0.138323   \n",
       "min                           28.000000                      0.228301   \n",
       "25%                           59.545000                      0.662055   \n",
       "50%                           65.099998                      0.771122   \n",
       "75%                           68.400002                      0.860766   \n",
       "max                           74.599998                      0.985178   \n",
       "\n",
       "        generosity  perceptions_of_corruption  positive_affect  \\\n",
       "count  2363.000000                2363.000000      2363.000000   \n",
       "mean     -0.011547                   0.706467         0.651878   \n",
       "std       0.170214                   0.239889         0.105708   \n",
       "min      -0.339547                   0.035198         0.178886   \n",
       "25%      -0.127570                   0.655807         0.572984   \n",
       "50%      -0.028736                   0.789678         0.662318   \n",
       "75%       0.088079                   0.863694         0.736519   \n",
       "max       0.699570                   0.983276         0.883586   \n",
       "\n",
       "       negative_affect  \n",
       "count      2363.000000  \n",
       "mean          0.273160  \n",
       "std           0.086838  \n",
       "min           0.082737  \n",
       "25%           0.208656  \n",
       "50%           0.263090  \n",
       "75%           0.325661  \n",
       "max           0.704590  "
      ]
     },
     "execution_count": 71,
     "metadata": {},
     "output_type": "execute_result"
    }
   ],
   "source": [
    "# Checking cleaned data profile\n",
    "df_happiness.describe()"
   ]
  },
  {
   "cell_type": "markdown",
   "id": "28050c48",
   "metadata": {},
   "source": [
    "## 06. Cleaned Data Export"
   ]
  },
  {
   "cell_type": "code",
   "execution_count": 73,
   "id": "043bfb0c",
   "metadata": {},
   "outputs": [],
   "source": [
    "# Export the cleaned dataframe to CSV\n",
    "df_happiness.to_csv(os.path.join(path, '02 Data', 'Prepared Data', 'df_happiness_cleaned.csv'), index=False)"
   ]
  }
 ],
 "metadata": {
  "kernelspec": {
   "display_name": "Python 3 (ipykernel)",
   "language": "python",
   "name": "python3"
  },
  "language_info": {
   "codemirror_mode": {
    "name": "ipython",
    "version": 3
   },
   "file_extension": ".py",
   "mimetype": "text/x-python",
   "name": "python",
   "nbconvert_exporter": "python",
   "pygments_lexer": "ipython3",
   "version": "3.11.7"
  }
 },
 "nbformat": 4,
 "nbformat_minor": 5
}
